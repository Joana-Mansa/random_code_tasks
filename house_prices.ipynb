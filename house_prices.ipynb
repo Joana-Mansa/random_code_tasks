{
  "nbformat": 4,
  "nbformat_minor": 0,
  "metadata": {
    "colab": {
      "name": "house_prices.ipynb",
      "provenance": [],
      "authorship_tag": "ABX9TyOcFJZr3G/Eg8VQRH+eZUMg",
      "include_colab_link": true
    },
    "kernelspec": {
      "name": "python3",
      "display_name": "Python 3"
    },
    "language_info": {
      "name": "python"
    }
  },
  "cells": [
    {
      "cell_type": "markdown",
      "metadata": {
        "id": "view-in-github",
        "colab_type": "text"
      },
      "source": [
        "<a href=\"https://colab.research.google.com/github/Joana-Mansa/random_code_tasks/blob/other_challenges/house_prices.ipynb\" target=\"_parent\"><img src=\"https://colab.research.google.com/assets/colab-badge.svg\" alt=\"Open In Colab\"/></a>"
      ]
    },
    {
      "cell_type": "markdown",
      "source": [
        "# HOUSE PRICES\n",
        "\n",
        "You are given an array that represents house prices.\n",
        "Calculate and output the percentage of houses that are within one standard deviation from the mean.\n",
        "\n",
        "data = np.array([150000, 125000, 320000, 540000, 200000, 120000, 160000, 230000, 280000, 290000, 300000, 500000, 420000, 100000, 150000, 280000])\n",
        "\n",
        "Thought Process:\n",
        "1. Find the mean\n",
        "2. standard deviation\n",
        "3. prices that are within one standard deviation\n",
        "4. the percentage"
      ],
      "metadata": {
        "id": "GTMpoLAaV3C-"
      }
    },
    {
      "cell_type": "code",
      "execution_count": 1,
      "metadata": {
        "colab": {
          "base_uri": "https://localhost:8080/"
        },
        "id": "sZwl8OTWVm2Z",
        "outputId": "0d8cdd57-0557-44d4-bf68-d1ebed207825"
      },
      "outputs": [
        {
          "output_type": "stream",
          "name": "stdout",
          "text": [
            "260312.5\n",
            "130053.69984644804\n"
          ]
        }
      ],
      "source": [
        "import numpy as np\n",
        "\n",
        "data = np.array([150000, 125000, 320000, 540000, 200000, 120000, 160000, 230000, 280000, 290000, 300000, 500000, 420000, 100000, 150000, 280000])\n",
        "mean = np.mean(data)\n",
        "standard_deviation = np.std(data)\n",
        "\n",
        "print(mean)\n",
        "print(standard_deviation)"
      ]
    },
    {
      "cell_type": "code",
      "source": [
        "low = mean - standard_deviation\n",
        "high = mean + standard_deviation\n",
        "\n",
        "row = 0\n",
        "for i in data:\n",
        "  if i>= low and i<=high:\n",
        "    row +=1\n",
        "print(row)"
      ],
      "metadata": {
        "colab": {
          "base_uri": "https://localhost:8080/"
        },
        "id": "kzaBhmJPW4cM",
        "outputId": "b5a1d22d-bd96-4f83-d40d-cd6178f3cb5f"
      },
      "execution_count": 2,
      "outputs": [
        {
          "output_type": "stream",
          "name": "stdout",
          "text": [
            "10\n"
          ]
        }
      ]
    },
    {
      "cell_type": "code",
      "source": [
        "percentage = row/len(data) * 100\n",
        "print(percentage)"
      ],
      "metadata": {
        "colab": {
          "base_uri": "https://localhost:8080/"
        },
        "id": "5-xwftVMXmzm",
        "outputId": "a4de1915-9d5b-4b33-9de5-16fe2cec8f2b"
      },
      "execution_count": 3,
      "outputs": [
        {
          "output_type": "stream",
          "name": "stdout",
          "text": [
            "62.5\n"
          ]
        }
      ]
    },
    {
      "cell_type": "code",
      "source": [
        ""
      ],
      "metadata": {
        "id": "jWJiuZDXXx45"
      },
      "execution_count": null,
      "outputs": []
    }
  ]
}