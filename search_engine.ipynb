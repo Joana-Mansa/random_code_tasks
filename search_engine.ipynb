{
  "nbformat": 4,
  "nbformat_minor": 0,
  "metadata": {
    "colab": {
      "name": "search_engine.ipynb",
      "provenance": [],
      "authorship_tag": "ABX9TyPTG9vZSxkkeXKZ/dKhSoFE",
      "include_colab_link": true
    },
    "kernelspec": {
      "name": "python3",
      "display_name": "Python 3"
    },
    "language_info": {
      "name": "python"
    }
  },
  "cells": [
    {
      "cell_type": "markdown",
      "metadata": {
        "id": "view-in-github",
        "colab_type": "text"
      },
      "source": [
        "<a href=\"https://colab.research.google.com/github/Joana-Mansa/random_code_tasks/blob/main/search_engine.ipynb\" target=\"_parent\"><img src=\"https://colab.research.google.com/assets/colab-badge.svg\" alt=\"Open In Colab\"/></a>"
      ]
    },
    {
      "cell_type": "markdown",
      "source": [
        " SEARCH ENGINE\n",
        "\n",
        "Instructions:\n",
        "\n",
        "The given code takes a text and a word as input and passes them to a function called search().\n",
        "\n",
        "The search() function should return \"Word found\" if the word is present in the text, or \"Word not found\", if it’s not.\n",
        "\n",
        "My thinking process\n",
        "1. take inputs from user, text and word\n",
        "2. define a function that accepts the arguments the user inputs\n",
        "3. split the text\n",
        "4. search for the 'word'\n",
        "5. print either 'word found' or 'word not found' depending on the word's availability"
      ],
      "metadata": {
        "id": "z-k4PSRxWhNZ"
      }
    },
    {
      "cell_type": "code",
      "execution_count": 16,
      "metadata": {
        "colab": {
          "base_uri": "https://localhost:8080/"
        },
        "id": "tTM14th1T4Ly",
        "outputId": "42711ae6-3e83-4286-e219-69ae9c14947d"
      },
      "outputs": [
        {
          "output_type": "stream",
          "name": "stdout",
          "text": [
            "this is awesome\n",
            "awesome\n",
            "Word found\n"
          ]
        }
      ],
      "source": [
        "\n",
        "text = input()\n",
        "word = input()\n",
        "\n",
        "text = text.split()\n",
        "\n",
        "def search(text, word):\n",
        "  if word in text:\n",
        "    return ('Word found')\n",
        "  else:\n",
        "    return ('Word not found')\n",
        "\n",
        "print(search(text, word))\n"
      ]
    },
    {
      "cell_type": "code",
      "source": [
        ""
      ],
      "metadata": {
        "id": "Iv_OQ3t6Up44"
      },
      "execution_count": 8,
      "outputs": []
    }
  ]
}