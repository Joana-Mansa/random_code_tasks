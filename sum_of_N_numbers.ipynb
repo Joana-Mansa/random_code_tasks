{
  "nbformat": 4,
  "nbformat_minor": 0,
  "metadata": {
    "colab": {
      "name": "sum_of_N_numbers",
      "provenance": [],
      "authorship_tag": "ABX9TyOGGgd0EdlQgoGkvBZ/Lh18",
      "include_colab_link": true
    },
    "kernelspec": {
      "name": "python3",
      "display_name": "Python 3"
    },
    "language_info": {
      "name": "python"
    }
  },
  "cells": [
    {
      "cell_type": "markdown",
      "metadata": {
        "id": "view-in-github",
        "colab_type": "text"
      },
      "source": [
        "<a href=\"https://colab.research.google.com/github/Joana-Mansa/random_code_tasks/blob/main/sum_of_N_numbers.ipynb\" target=\"_parent\"><img src=\"https://colab.research.google.com/assets/colab-badge.svg\" alt=\"Open In Colab\"/></a>"
      ]
    },
    {
      "cell_type": "markdown",
      "source": [
        "# PRINT THE SUM OF N NUMBERS\n",
        "Given a number N, print their sum from 1 to N, with N being included\n",
        "using the range function [ range(0, N+1) ]\n",
        "\n",
        "The code :\n",
        "1. takes an input N, converts it to an integer\n",
        "2. sets an initial number x to 0\n",
        "3. iterates over the range given (first number, last number) with a for loop\n",
        "4. adds the x to the iterated value in the loop until N+1\n",
        "\n",
        "* the range function is mean to omit the last number to be iterated, therefore we set the last number to N+1"
      ],
      "metadata": {
        "id": "xMbhTEs7KCFB"
      }
    },
    {
      "cell_type": "code",
      "execution_count": 4,
      "metadata": {
        "colab": {
          "base_uri": "https://localhost:8080/"
        },
        "id": "zQMP5TOG5Mmf",
        "outputId": "5927799a-6265-434c-dda1-89df02640b5b"
      },
      "outputs": [
        {
          "output_type": "stream",
          "name": "stdout",
          "text": [
            "100\n",
            "5050\n"
          ]
        }
      ],
      "source": [
        "# takes the input N\n",
        "N = int(input())\n",
        "\n",
        "x = 0\n",
        "for i in range(0, N+1):\n",
        "    x = x + i\n",
        "print(x)\n",
        "  "
      ]
    }
  ]
}