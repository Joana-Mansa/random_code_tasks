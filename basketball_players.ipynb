{
  "nbformat": 4,
  "nbformat_minor": 0,
  "metadata": {
    "colab": {
      "name": "basketball_players.ipynb",
      "provenance": [],
      "authorship_tag": "ABX9TyODYKpkT/Wg8ZGqZuNWYuHC",
      "include_colab_link": true
    },
    "kernelspec": {
      "name": "python3",
      "display_name": "Python 3"
    },
    "language_info": {
      "name": "python"
    }
  },
  "cells": [
    {
      "cell_type": "markdown",
      "metadata": {
        "id": "view-in-github",
        "colab_type": "text"
      },
      "source": [
        "<a href=\"https://colab.research.google.com/github/Joana-Mansa/random_code_tasks/blob/other_challenges/basketball_players.ipynb\" target=\"_parent\"><img src=\"https://colab.research.google.com/assets/colab-badge.svg\" alt=\"Open In Colab\"/></a>"
      ]
    },
    {
      "cell_type": "markdown",
      "source": [
        "The given code includes a list of heights for various basketball players.\n",
        "You need to calculate and output how many players are in the range of one standard deviation from the mean.\n",
        "\n",
        "players = [180, 172, 178, 185, 190, 195, 192, 200, 210, 190]\n",
        "\n",
        "\n",
        "Thinking Process:\n",
        "1. Calculate the standard deviation\n",
        "2. find the range of numbers within one std from the mean\n",
        "3. print their length"
      ],
      "metadata": {
        "id": "1AUSAq6ouly1"
      }
    },
    {
      "cell_type": "code",
      "execution_count": 1,
      "metadata": {
        "colab": {
          "base_uri": "https://localhost:8080/"
        },
        "id": "vas4fBORugGW",
        "outputId": "89e6a296-2f97-4d89-be1c-f9c01f4d8dff"
      },
      "outputs": [
        {
          "output_type": "stream",
          "name": "stdout",
          "text": [
            "10.562196741208716\n"
          ]
        }
      ],
      "source": [
        "players = [180, 172, 178, 185, 190, 195, 192, 200, 210, 190]\n",
        "\n",
        "import numpy as np\n",
        "# calculates the standard deviation\n",
        "standard= np.std(players)\n",
        "print(standard)\n"
      ]
    },
    {
      "cell_type": "code",
      "source": [
        "mean = np.mean(players)\n",
        "print(mean)"
      ],
      "metadata": {
        "colab": {
          "base_uri": "https://localhost:8080/"
        },
        "id": "qH7VMLO_wRC-",
        "outputId": "3a90e4c1-f6f5-477d-da29-38c6dcb290ff"
      },
      "execution_count": 2,
      "outputs": [
        {
          "output_type": "stream",
          "name": "stdout",
          "text": [
            "189.2\n"
          ]
        }
      ]
    },
    {
      "cell_type": "code",
      "source": [
        "row = 0\n",
        "low = mean - standard\n",
        "high = mean + standard\n",
        "\n",
        "for i in players:\n",
        "  if i>=low and i<=high:\n",
        "    row += 1\n",
        "print(row)"
      ],
      "metadata": {
        "id": "oJ-tXYURxAe1",
        "outputId": "86ce6c4a-72e9-4396-9367-60d95d96ccfc",
        "colab": {
          "base_uri": "https://localhost:8080/"
        }
      },
      "execution_count": 3,
      "outputs": [
        {
          "output_type": "stream",
          "name": "stdout",
          "text": [
            "6\n"
          ]
        }
      ]
    },
    {
      "cell_type": "code",
      "source": [
        ""
      ],
      "metadata": {
        "id": "8RzudMK5zCzQ"
      },
      "execution_count": null,
      "outputs": []
    }
  ]
}